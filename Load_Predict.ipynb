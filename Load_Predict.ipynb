{
  "nbformat": 4,
  "nbformat_minor": 0,
  "metadata": {
    "colab": {
      "provenance": []
    },
    "kernelspec": {
      "name": "python3",
      "display_name": "Python 3"
    },
    "language_info": {
      "name": "python"
    }
  },
  "cells": [
    {
      "cell_type": "code",
      "execution_count": 4,
      "metadata": {
        "id": "t0Vdh0Wbmsam"
      },
      "outputs": [],
      "source": [
        "from tensorflow.keras.models import load_model\n",
        "import numpy as np\n",
        "import cv2 as c"
      ]
    },
    {
      "cell_type": "code",
      "source": [
        "model = load_model('Digit_Recognition.keras')"
      ],
      "metadata": {
        "colab": {
          "base_uri": "https://localhost:8080/"
        },
        "id": "s66ajJNOmy1z",
        "outputId": "7d4ebcdb-bce5-4e6a-b5b1-5d7ce88e3fc0"
      },
      "execution_count": 5,
      "outputs": [
        {
          "output_type": "stream",
          "name": "stderr",
          "text": [
            "/usr/local/lib/python3.11/dist-packages/keras/src/saving/saving_lib.py:757: UserWarning: Skipping variable loading for optimizer 'rmsprop', because it has 8 variables whereas the saved optimizer has 14 variables. \n",
            "  saveable.load_own_variables(weights_store.get(inner_path))\n"
          ]
        }
      ]
    },
    {
      "cell_type": "code",
      "source": [
        "def detect_image(p):\n",
        "  path = p\n",
        "  image = c.imread(path)\n",
        "  gray = c.cvtColor(image,c.COLOR_RGB2GRAY)\n",
        "  resize = c.resize(gray,(28,28))\n",
        "  std_resize = resize/255\n",
        "  reshape = np.reshape(std_resize,[1,28,28])\n",
        "  predict = model.predict(reshape)\n",
        "  lab = np.argmax(predict)\n",
        "  print(\"The Uploaded image is of the Digit:\",int(lab))\n",
        "  image"
      ],
      "metadata": {
        "id": "DCpwglKynGPz"
      },
      "execution_count": 24,
      "outputs": []
    },
    {
      "cell_type": "code",
      "source": [
        "detect_image('/content/six06.png')\n",
        "image"
      ],
      "metadata": {
        "colab": {
          "base_uri": "https://localhost:8080/",
          "height": 104
        },
        "id": "4ic0fC8entJp",
        "outputId": "795bf7df-882c-42d8-baa5-a5b61a4c9c3a"
      },
      "execution_count": 31,
      "outputs": [
        {
          "output_type": "stream",
          "name": "stdout",
          "text": [
            "\u001b[1m1/1\u001b[0m \u001b[32m━━━━━━━━━━━━━━━━━━━━\u001b[0m\u001b[37m\u001b[0m \u001b[1m0s\u001b[0m 34ms/step\n",
            "The Uploaded image is of the Digit: 6\n"
          ]
        },
        {
          "output_type": "execute_result",
          "data": {
            "text/plain": [
              "array([[[0, 0, 0],\n",
              "        [0, 0, 0],\n",
              "        [0, 0, 0],\n",
              "        ...,\n",
              "        [0, 0, 0],\n",
              "        [0, 0, 0],\n",
              "        [0, 0, 0]],\n",
              "\n",
              "       [[0, 0, 0],\n",
              "        [0, 0, 0],\n",
              "        [0, 0, 0],\n",
              "        ...,\n",
              "        [0, 0, 0],\n",
              "        [0, 0, 0],\n",
              "        [0, 0, 0]],\n",
              "\n",
              "       [[0, 0, 0],\n",
              "        [0, 0, 0],\n",
              "        [0, 0, 0],\n",
              "        ...,\n",
              "        [0, 0, 0],\n",
              "        [0, 0, 0],\n",
              "        [0, 0, 0]],\n",
              "\n",
              "       ...,\n",
              "\n",
              "       [[0, 0, 0],\n",
              "        [0, 0, 0],\n",
              "        [0, 0, 0],\n",
              "        ...,\n",
              "        [0, 0, 0],\n",
              "        [0, 0, 0],\n",
              "        [0, 0, 0]],\n",
              "\n",
              "       [[0, 0, 0],\n",
              "        [0, 0, 0],\n",
              "        [0, 0, 0],\n",
              "        ...,\n",
              "        [0, 0, 0],\n",
              "        [0, 0, 0],\n",
              "        [0, 0, 0]],\n",
              "\n",
              "       [[0, 0, 0],\n",
              "        [0, 0, 0],\n",
              "        [0, 0, 0],\n",
              "        ...,\n",
              "        [0, 0, 0],\n",
              "        [0, 0, 0],\n",
              "        [0, 0, 0]]], dtype=uint8)"
            ],
            "text/html": [
              "<style>\n",
              "      .ndarray_repr .ndarray_raw_data {\n",
              "        display: none;\n",
              "      }\n",
              "      .ndarray_repr.show_array .ndarray_raw_data {\n",
              "        display: block;\n",
              "      }\n",
              "      .ndarray_repr.show_array .ndarray_image_preview {\n",
              "        display: none;\n",
              "      }\n",
              "      </style>\n",
              "      <div id=\"id-a4d28bed-2d62-4dbf-a5bf-9ad06915f9cd\" class=\"ndarray_repr\"><pre>ndarray (28, 28, 3) <button style=\"padding: 0 2px;\">show data</button></pre><img src=\"data:image/png;base64,iVBORw0KGgoAAAANSUhEUgAAABwAAAAcCAIAAAD9b0jDAAACDUlEQVR4nO2TMchpYRjH35OPPkk6CxnUyUhKyaAYLGJiYlHYGQ2MSp1CGaTOoBylZLUwSRadhXMGi5hEZDjDKXV6n9zh7ZPudT90Tbfvt53nec+vf+/7PAj9P2g0GpfL1e/3ASAej79Hmslk8Bf5fP4NRoZhNpsNMXIcp9Pp3iCVJAkAMMaj0chms73ByLKsqqoAIEnSezKGQiEAAID9fu9wOF769+NvjXA4fLlcEEK1Wm25XP5rRsJwOMQYr9drhmH+7N4tPsDv94uiiDFOp9O3dafTuVgs5vP5drvtdrt6vf4FKc/zZIzMZvM1miRJsiyTYSAMBgOv1/ustNPpkFeyWCwIIZ/PB19cLhe4QVGUQCDwQtLJZPL5+WkymVarFYm23+/r9XoymUwmk4IgYIwB4HQ6BYPBZ6XtdhshlM1miXE6nbrd7usZq9VaKBTIbZRKpRekqVTqcDh8s1G5XG61Wi0WC5qmn5IKgrDb7QCg1Wp9s1HkcLPZvFbuDz9FURRFeTwehNDxeKzVaqqq3j2ZSCQ8Hg9FUQaD4UHSWCwmyzK5SpZlb1tarZamabvdXq1WeZ4ndyrLcjQafSBFCHEcR6Tn83k4HHIcFwqFisXieDwWRfF4PJIuAMiyXC6XHxsRQkajsVKpKIpyO+3EcvvJ8/xTGW+JRCKNRuM36Ww26/V66XT6um8//HDlF+HKifb+0a+AAAAAAElFTkSuQmCC\" class=\"ndarray_image_preview\" /><pre class=\"ndarray_raw_data\">array([[[0, 0, 0],\n",
              "        [0, 0, 0],\n",
              "        [0, 0, 0],\n",
              "        ...,\n",
              "        [0, 0, 0],\n",
              "        [0, 0, 0],\n",
              "        [0, 0, 0]],\n",
              "\n",
              "       [[0, 0, 0],\n",
              "        [0, 0, 0],\n",
              "        [0, 0, 0],\n",
              "        ...,\n",
              "        [0, 0, 0],\n",
              "        [0, 0, 0],\n",
              "        [0, 0, 0]],\n",
              "\n",
              "       [[0, 0, 0],\n",
              "        [0, 0, 0],\n",
              "        [0, 0, 0],\n",
              "        ...,\n",
              "        [0, 0, 0],\n",
              "        [0, 0, 0],\n",
              "        [0, 0, 0]],\n",
              "\n",
              "       ...,\n",
              "\n",
              "       [[0, 0, 0],\n",
              "        [0, 0, 0],\n",
              "        [0, 0, 0],\n",
              "        ...,\n",
              "        [0, 0, 0],\n",
              "        [0, 0, 0],\n",
              "        [0, 0, 0]],\n",
              "\n",
              "       [[0, 0, 0],\n",
              "        [0, 0, 0],\n",
              "        [0, 0, 0],\n",
              "        ...,\n",
              "        [0, 0, 0],\n",
              "        [0, 0, 0],\n",
              "        [0, 0, 0]],\n",
              "\n",
              "       [[0, 0, 0],\n",
              "        [0, 0, 0],\n",
              "        [0, 0, 0],\n",
              "        ...,\n",
              "        [0, 0, 0],\n",
              "        [0, 0, 0],\n",
              "        [0, 0, 0]]], dtype=uint8)</pre></div><script>\n",
              "      (() => {\n",
              "      const titles = ['show data', 'hide data'];\n",
              "      let index = 0\n",
              "      document.querySelector('#id-a4d28bed-2d62-4dbf-a5bf-9ad06915f9cd button').onclick = (e) => {\n",
              "        document.querySelector('#id-a4d28bed-2d62-4dbf-a5bf-9ad06915f9cd').classList.toggle('show_array');\n",
              "        index = (++index) % 2;\n",
              "        document.querySelector('#id-a4d28bed-2d62-4dbf-a5bf-9ad06915f9cd button').textContent = titles[index];\n",
              "        e.preventDefault();\n",
              "        e.stopPropagation();\n",
              "      }\n",
              "      })();\n",
              "    </script>"
            ]
          },
          "metadata": {},
          "execution_count": 31
        }
      ]
    }
  ]
}